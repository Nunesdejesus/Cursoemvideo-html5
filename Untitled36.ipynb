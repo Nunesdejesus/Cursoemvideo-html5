{
  "nbformat": 4,
  "nbformat_minor": 0,
  "metadata": {
    "colab": {
      "name": "Untitled36.ipynb",
      "provenance": [],
      "authorship_tag": "ABX9TyMubmBoCRxZ3i2QFUlGhG95",
      "include_colab_link": true
    },
    "kernelspec": {
      "name": "python3",
      "display_name": "Python 3"
    },
    "language_info": {
      "name": "python"
    }
  },
  "cells": [
    {
      "cell_type": "markdown",
      "metadata": {
        "id": "view-in-github",
        "colab_type": "text"
      },
      "source": [
        "<a href=\"https://colab.research.google.com/github/Nunesdejesus/Cursoemvideo-html5/blob/main/Untitled36.ipynb\" target=\"_parent\"><img src=\"https://colab.research.google.com/assets/colab-badge.svg\" alt=\"Open In Colab\"/></a>"
      ]
    },
    {
      "cell_type": "code",
      "metadata": {
        "colab": {
          "base_uri": "https://localhost:8080/"
        },
        "id": "K8m7eQZSGLav",
        "outputId": "c04aec4b-6869-4413-bddc-def0a0c475f0"
      },
      "source": [
        "import requests\n",
        "import time\n",
        "import csv\n",
        "import random\n",
        "import concurrent.futures\n",
        "\n",
        "\n",
        "from bs4 import BeautifulSoup\n",
        "\n",
        "\n",
        "headers = {'User-Agent': 'Mozilla/5.0 (Macintosh; Intel Mac OS X 10_10_1) AppleWebKit/537.36 (KHTML, like Gecko) Chrome/39.0.2171.95 Safari/537.36'}\n",
        "\n",
        "MAX_THREADS = 10\n",
        "\n",
        "\n",
        "def extract_movie_details(movies_links):\n",
        "  time.sleep(random.uniform(0, 0.2))\n",
        "  response = BeautifulSoup(requests.get(movie_link, headers=headers).content, 'html.parser')\n",
        "  movie_soup = response\n",
        "\n",
        "  if movie_soup is not None:\n",
        "    title = None\n",
        "    date = None\n",
        "\n",
        "    movie_data = movie_soup.find('div', attrs={'class': 'title_wrapper'})\n",
        "    if movie_data is not None:\n",
        "      title = movie_data.find('h1').get_text()\n",
        "      date = movie_data.find('a', attrs={'title': 'See more release dates'}).get_text().strip()\n",
        "\n",
        "    rating = movie_soup.find('span', attrs={'itemprop': 'ratingValue'}).get_text() if movie_soup.find(\n",
        "            'span', attrs={'itemprop': 'ratingValue'}) else None\n",
        "\n",
        "    plot_text = movie_soup.find('div', attrs={'class': 'summary_text'}).get_text().strip() if movie_soup.find(\n",
        "            'div', attrs={'class': 'summary_text'}) else None\n",
        "\n",
        "    with open('movies.csv', mode='a') as file:\n",
        "            movie_writer = csv.writer(file, delimiter=',', quotechar='\"', quoting=csv.QUOTE_MINIMAL)\n",
        "            if all([title, date, rating, plot_text]):\n",
        "                print(title, date, rating, plot_text)\n",
        "                movie_writer.writerow([title, date, rating, plot_text])\n",
        "\n",
        "\n",
        "def extract_movies(soup):\n",
        "    movies_table = soup.find('table', attrs={'data-caller-name': 'chart-moviemeter'}).find('tbody')\n",
        "    movies_table_rows = movies_table.find_all('tr')\n",
        "    movie_links = ['https://imdb.com' + movie.find('a')['href'] for movie in movies_table_rows]\n",
        "\n",
        "    threads = min(MAX_THREADS, len(movie_links))\n",
        "    with concurrent.futures.ThreadPoolExecutor(max_workers=MAX_THREADS) as executor:\n",
        "                  executor.map(extract_movie_details, movie_links)\n",
        "\n",
        "\n",
        "def main():\n",
        "  start_time = time.time()\n",
        "\n",
        "\n",
        "  popular_movies_url = 'https://www.imdb.com/chart/moviemeter/?ref_=nv_mv_mpm'\n",
        "  response = requests.get(popular_movies_url, headers=headers)\n",
        "  soup = BeautifulSoup(response.content, 'html.parser')\n",
        "\n",
        "\n",
        "  extract_movies(soup)\n",
        "\n",
        "  end_time = time.time()\n",
        "  print('Total time taken: ', end_time - start_time)\n",
        "\n",
        "\n",
        "if __name__ == '__main__':\n",
        "    main()"
      ],
      "execution_count": null,
      "outputs": [
        {
          "output_type": "stream",
          "name": "stdout",
          "text": [
            "Total time taken:  2.645799160003662\n"
          ]
        }
      ]
    }
  ]
}