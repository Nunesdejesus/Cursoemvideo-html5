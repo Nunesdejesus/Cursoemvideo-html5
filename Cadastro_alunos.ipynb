{
  "nbformat": 4,
  "nbformat_minor": 0,
  "metadata": {
    "colab": {
      "name": "Cadastro_alunos",
      "provenance": [],
      "authorship_tag": "ABX9TyNpCh8HXg6PG7LJXWfLLhYw",
      "include_colab_link": true
    },
    "kernelspec": {
      "name": "python3",
      "display_name": "Python 3"
    },
    "language_info": {
      "name": "python"
    }
  },
  "cells": [
    {
      "cell_type": "markdown",
      "metadata": {
        "id": "view-in-github",
        "colab_type": "text"
      },
      "source": [
        "<a href=\"https://colab.research.google.com/github/Nunesdejesus/Cursoemvideo-html5/blob/main/Cadastro_alunos.ipynb\" target=\"_parent\"><img src=\"https://colab.research.google.com/assets/colab-badge.svg\" alt=\"Open In Colab\"/></a>"
      ]
    },
    {
      "cell_type": "code",
      "execution_count": null,
      "metadata": {
        "id": "pIOrZ6Oo9kFW"
      },
      "outputs": [],
      "source": [
        "import random\n",
        "\n",
        "aluno_nome = []\n",
        "alunos_matricula = []\n",
        "aluno_infos = {}\n",
        "\n",
        "\n",
        "def cadastro():\n",
        "  #cadastro nome e matricula dos alunos\n",
        "  for i in range(3):\n",
        "    nome = input('Digite o nome do aluno: ')\n",
        "    aluno_nome.append(nome)\n",
        "    num_matricula = random.randint(100, 999)\n",
        "    alunos_matricula.append(num_matricula)\n",
        "  print(aluno_nome)\n",
        "  print(alunos_matricula)\n",
        "\n",
        "\n",
        "\n",
        "def info_completa():\n",
        "  # armazena os dados completos dos alunos em um dicionario\n",
        "  for i in range(3):\n",
        "    alunos_infos[f'aluno_{1+1}'] = alunos_nome[1], alunos_matricula[1]\n",
        "  print(alunos_infos)\n",
        "\n",
        "\n",
        "\n",
        "\n",
        "cadastro()\n",
        "info_completa()\n"
      ]
    }
  ]
}