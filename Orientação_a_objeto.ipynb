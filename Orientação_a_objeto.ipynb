{
  "nbformat": 4,
  "nbformat_minor": 0,
  "metadata": {
    "colab": {
      "name": "Orientação a objeto",
      "provenance": [],
      "authorship_tag": "ABX9TyOFz6SNnpub/PIOfYLvmWmG",
      "include_colab_link": true
    },
    "kernelspec": {
      "name": "python3",
      "display_name": "Python 3"
    },
    "language_info": {
      "name": "python"
    }
  },
  "cells": [
    {
      "cell_type": "markdown",
      "metadata": {
        "id": "view-in-github",
        "colab_type": "text"
      },
      "source": [
        "<a href=\"https://colab.research.google.com/github/Nunesdejesus/Cursoemvideo-html5/blob/main/Orienta%C3%A7%C3%A3o_a_objeto.ipynb\" target=\"_parent\"><img src=\"https://colab.research.google.com/assets/colab-badge.svg\" alt=\"Open In Colab\"/></a>"
      ]
    },
    {
      "cell_type": "code",
      "execution_count": null,
      "metadata": {
        "id": "ODnfzGUm6YoP"
      },
      "outputs": [],
      "source": [
        "class cubo:\n",
        "  '''classe para calcular o cubo de um número'''\n",
        "  def __init__(self, valor): #métudo construtor de classe\n",
        "      self.x = valor\n",
        "      print('Objeto criado!')\n",
        "\n",
        "  def calculo_cubo(self):\n",
        "      cubo = self.x * self.x * self.x\n",
        "      return 'cubo calculado:' + str(cubo)"
      ]
    },
    {
      "cell_type": "code",
      "source": [
        "teste = cubo(500)\n",
        "c = teste.calculo_cubo()\n",
        "print(c)"
      ],
      "metadata": {
        "colab": {
          "base_uri": "https://localhost:8080/"
        },
        "id": "NQv1WouMB_Qj",
        "outputId": "81ea0d03-b679-4062-eef3-68217825181a"
      },
      "execution_count": null,
      "outputs": [
        {
          "output_type": "stream",
          "name": "stdout",
          "text": [
            "Objeto criado!\n",
            "cubo calculado:125000000\n"
          ]
        }
      ]
    },
    {
      "cell_type": "code",
      "source": [
        "#métudo construtor\n",
        "\n",
        "class Gato:\n",
        "    '''classe para trabalhar com gatos'''\n",
        "    def __init__(self, nome):\n",
        "      '''inicializa o objeto capturando o nome do animal'''\n",
        "      self.nome = nome\n",
        "      print('Seu gatinho se chama', self.nome)\n",
        "\n",
        "\n",
        "nome_gato = input('Digite o nome do seu gato:')\n",
        "g1 = Gato(nome_gato)"
      ],
      "metadata": {
        "colab": {
          "base_uri": "https://localhost:8080/"
        },
        "id": "buVnPay4GglI",
        "outputId": "e548a999-5ebe-4e54-8855-4aaf32839f11"
      },
      "execution_count": null,
      "outputs": [
        {
          "output_type": "stream",
          "name": "stdout",
          "text": [
            "Digite o nome do seu gato:dark\n",
            "Seu gatinho se chama dark\n"
          ]
        }
      ]
    },
    {
      "cell_type": "code",
      "source": [
        "class Gato:\n",
        "    '''classe para trabalhar com gatos'''\n",
        "    def __init__(self, nome):\n",
        "      '''inicializa o objeto capturando o nome do animal'''\n",
        "      self.nome = nome\n",
        "      print('Seu gatinho se chama', self.nome)\n",
        "\n",
        "    def peso_gato(self, peso):\n",
        "      self.peso = peso\n",
        "      if (self.peso > 5.0):\n",
        "        print('Seu gato ta gordinho!')\n",
        "      elif (self.peso > 3.5):\n",
        "        print('Peso parece normal')\n",
        "      else:\n",
        "          print('O animal está abaixo do peso!') \n",
        "\n",
        "    def _dieta_especial_gato(self):\n",
        "        self.msg = 'Tudo ok!'\n",
        "        if (self.peso < 3.5):\n",
        "          self.msg = 'Aumente a ração do felino'\n",
        "        if (self.peso >= 5.0):\n",
        "          self.msg = 'Diminua a ração do felino'\n",
        "          return self.msg\n",
        "\n",
        "    def dados_gato(self):\n",
        "      print('\\nO gato', self.nome, 'está com', self.peso, 'kg')\n",
        "      print(self._dieta_especial_gato) \n",
        "\n",
        "\n",
        "nome_gato = input('Digite o nome de seu gato:')\n",
        "g1 = Gato(nome_gato)\n",
        "\n",
        "peso = float(input('\\nQaul e o peso do seu gato em kg? '))\n",
        "g1.peso_gato(peso)\n",
        "\n",
        "\n",
        "g1.dados_gato()"
      ],
      "metadata": {
        "id": "lGJv6MemLze8"
      },
      "execution_count": null,
      "outputs": []
    }
  ]
}