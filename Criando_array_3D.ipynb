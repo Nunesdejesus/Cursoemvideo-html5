{
  "nbformat": 4,
  "nbformat_minor": 0,
  "metadata": {
    "colab": {
      "name": "Criando array 3D",
      "provenance": [],
      "authorship_tag": "ABX9TyPdbOTpA7AYMR9lOm0yCZFw",
      "include_colab_link": true
    },
    "kernelspec": {
      "name": "python3",
      "display_name": "Python 3"
    },
    "language_info": {
      "name": "python"
    }
  },
  "cells": [
    {
      "cell_type": "markdown",
      "metadata": {
        "id": "view-in-github",
        "colab_type": "text"
      },
      "source": [
        "<a href=\"https://colab.research.google.com/github/Nunesdejesus/Cursoemvideo-html5/blob/main/Criando_array_3D.ipynb\" target=\"_parent\"><img src=\"https://colab.research.google.com/assets/colab-badge.svg\" alt=\"Open In Colab\"/></a>"
      ]
    },
    {
      "cell_type": "code",
      "execution_count": null,
      "metadata": {
        "colab": {
          "base_uri": "https://localhost:8080/"
        },
        "id": "9FQ89ZLyOAzo",
        "outputId": "d8d9bc03-8da7-43f5-c378-f21f3c260ae8"
      },
      "outputs": [
        {
          "output_type": "stream",
          "name": "stdout",
          "text": [
            "Array tridimensional:\n",
            " [[[1 4 4]\n",
            "  [3 5 2]]\n",
            "\n",
            " [[5 6 0]\n",
            "  [7 4 1]]\n",
            "\n",
            " [[2 8 8]\n",
            "  [0 3 6]]]\n"
          ]
        }
      ],
      "source": [
        "import numpy as np\n",
        "\n",
        "# criar um array tridimensional (lista de tres dimensões)\n",
        "\n",
        "# cada colchete aninhado representa uma dimensão do array\n",
        "\n",
        "cubo = np.array([[[1, 4, 4],[3, 5, 2]],[[5, 6, 0],[7, 4, 1]],[[2, 8, 8],[0, 3, 6]]])\n",
        "print('Array tridimensional:\\n', cubo)"
      ]
    },
    {
      "cell_type": "code",
      "source": [
        "# Visualizar elementos especificos do cubo (Array tridimensional)\n",
        "print('\\nItem na posição 0,0,0:', cubo[0,0,0])\n",
        "print('Item na posição 1,0,0:', cubo[1,0,0])\n",
        "print('Item na posição 2,0,0:', cubo[2,0,0])"
      ],
      "metadata": {
        "colab": {
          "base_uri": "https://localhost:8080/"
        },
        "id": "3LISbIUOQj6u",
        "outputId": "55521a2a-8a38-4845-f8e0-5995a8712d71"
      },
      "execution_count": null,
      "outputs": [
        {
          "output_type": "stream",
          "name": "stdout",
          "text": [
            "\n",
            "Item na posição 0,0,0: 1\n",
            "Item na posição 1,0,0: 5\n",
            "Item na posição 2,0,0: 2\n"
          ]
        }
      ]
    },
    {
      "cell_type": "code",
      "source": [
        "# Número de dimens~eos do array\n",
        "print('número de dimensões do array cubo:', cubo.ndim)\n",
        "\n",
        "# Dimensões do array\n",
        "print('Tamanho do array cubo', cubo.shape)\n",
        "\n",
        "# Número total do array\n",
        "print('Total de elementos do array cubo:', cubo.size)"
      ],
      "metadata": {
        "colab": {
          "base_uri": "https://localhost:8080/"
        },
        "id": "yTvm7z1YRn-x",
        "outputId": "89156b1d-35d1-48fb-e5d6-331d882f691f"
      },
      "execution_count": null,
      "outputs": [
        {
          "output_type": "stream",
          "name": "stdout",
          "text": [
            "número de dimensões do array cubo: 3\n",
            "Tamanho do array cubo (3, 2, 3)\n",
            "Total de elementos do array cubo: 18\n"
          ]
        }
      ]
    },
    {
      "cell_type": "code",
      "source": [
        "import numpy as np\n",
        "# Outro array tridimensional 2x3x3 (dois blocos, tres linhas e tres colunas)\n",
        "\n",
        "tri = np.array([ [ [0,0,0],[1,1,1],[2,2,2] ],[ [4,4,4],[5,5,5],[6,6,6] ] ])\n",
        "print(tri)"
      ],
      "metadata": {
        "colab": {
          "base_uri": "https://localhost:8080/"
        },
        "id": "ajCWg2iOWHb-",
        "outputId": "9e522bf6-a9df-46f8-baf3-2344452533e2"
      },
      "execution_count": null,
      "outputs": [
        {
          "output_type": "stream",
          "name": "stdout",
          "text": [
            "[[[0 0 0]\n",
            "  [1 1 1]\n",
            "  [2 2 2]]\n",
            "\n",
            " [[4 4 4]\n",
            "  [5 5 5]\n",
            "  [6 6 6]]]\n"
          ]
        }
      ]
    },
    {
      "cell_type": "code",
      "source": [
        "# Imprimir os elementos do array usando iteração laços for\n",
        "for i in range(2):\n",
        "  for j in range(3):\n",
        "    for k in range(3):\n",
        "      print('Posição {0},{1},{2}: {3}'.format(i,j,k,tri[i][j][k]))"
      ],
      "metadata": {
        "colab": {
          "base_uri": "https://localhost:8080/"
        },
        "id": "oLXe8fTeXwSV",
        "outputId": "0479fd21-24d3-443f-e327-b5db42b8d706"
      },
      "execution_count": null,
      "outputs": [
        {
          "output_type": "stream",
          "name": "stdout",
          "text": [
            "Posição 0,0,0: 0\n",
            "Posição 0,0,1: 0\n",
            "Posição 0,0,2: 0\n",
            "Posição 0,1,0: 1\n",
            "Posição 0,1,1: 1\n",
            "Posição 0,1,2: 1\n",
            "Posição 0,2,0: 2\n",
            "Posição 0,2,1: 2\n",
            "Posição 0,2,2: 2\n",
            "Posição 1,0,0: 4\n",
            "Posição 1,0,1: 4\n",
            "Posição 1,0,2: 4\n",
            "Posição 1,1,0: 5\n",
            "Posição 1,1,1: 5\n",
            "Posição 1,1,2: 5\n",
            "Posição 1,2,0: 6\n",
            "Posição 1,2,1: 6\n",
            "Posição 1,2,2: 6\n"
          ]
        }
      ]
    },
    {
      "cell_type": "code",
      "source": [
        "# Criar um array com os números pares de 0 a 100\n",
        "pares = np.array([n for n in range(0,101,2)])\n",
        "print(pares)"
      ],
      "metadata": {
        "colab": {
          "base_uri": "https://localhost:8080/"
        },
        "id": "rn4YIksIaHIW",
        "outputId": "5aa623e1-8b9c-47a6-ea2d-6934e11a75d5"
      },
      "execution_count": null,
      "outputs": [
        {
          "output_type": "stream",
          "name": "stdout",
          "text": [
            "[  0   2   4   6   8  10  12  14  16  18  20  22  24  26  28  30  32  34\n",
            "  36  38  40  42  44  46  48  50  52  54  56  58  60  62  64  66  68  70\n",
            "  72  74  76  78  80  82  84  86  88  90  92  94  96  98 100]\n"
          ]
        }
      ]
    }
  ]
}