{
  "nbformat": 4,
  "nbformat_minor": 0,
  "metadata": {
    "colab": {
      "name": "Untitled42.ipynb",
      "provenance": [],
      "authorship_tag": "ABX9TyN8syoyr8fboGXVy/AlUHAH",
      "include_colab_link": true
    },
    "kernelspec": {
      "name": "python3",
      "display_name": "Python 3"
    },
    "language_info": {
      "name": "python"
    }
  },
  "cells": [
    {
      "cell_type": "markdown",
      "metadata": {
        "id": "view-in-github",
        "colab_type": "text"
      },
      "source": [
        "<a href=\"https://colab.research.google.com/github/Nunesdejesus/Cursoemvideo-html5/blob/main/Untitled42.ipynb\" target=\"_parent\"><img src=\"https://colab.research.google.com/assets/colab-badge.svg\" alt=\"Open In Colab\"/></a>"
      ]
    },
    {
      "cell_type": "code",
      "execution_count": 4,
      "metadata": {
        "colab": {
          "base_uri": "https://localhost:8080/"
        },
        "id": "AW1yMBW9Tsg0",
        "outputId": "eb48e3b9-af95-41fd-d3d5-7ff763cf058f"
      },
      "outputs": [
        {
          "name": "stdout",
          "output_type": "stream",
          "text": [
            "Digite seu CEP: 244514801\n",
            "[+] o cep deve conter apenas 8 digitos. \n",
            "\n",
            "Deseja tentar novamente?\n",
            "Digit s para sim ou n para não: 24451480\n",
            "\n",
            "Opção digitade. é. \n",
            "Digite seu CEP: 24451480\n"
          ]
        }
      ],
      "source": [
        "while True:\n",
        "  try:\n",
        "    cep = input(\"Digite seu CEP: \")\n",
        "\n",
        "    if len(cep) != 8:\n",
        "      print(\"[+] o cep deve conter apenas 8 digitos. \\n\")\n",
        "      novamente = input(\"Deseja tentar novamente?\\nDigit s para sim ou n para não: \")\n",
        "    else:\n",
        "        break\n",
        "  except:\n",
        "    print('\\n Opção invalida')\n",
        "\n",
        "  if novamente == 'S' or novamente == 's':\n",
        "    continue\n",
        "  elif novamente == 'N' or novamente == 'n':\n",
        "    print(\"Ate mais...\")\n",
        "    exit()\n",
        "  else:\n",
        "    print(\"\\nOpção digitade. é. \")"
      ]
    }
  ]
}