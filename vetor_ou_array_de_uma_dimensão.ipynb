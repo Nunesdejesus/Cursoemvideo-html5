{
  "nbformat": 4,
  "nbformat_minor": 0,
  "metadata": {
    "colab": {
      "name": "vetor ou array de uma dimensão",
      "provenance": [],
      "authorship_tag": "ABX9TyMmNpKfgWMDR6HYLko5WutK",
      "include_colab_link": true
    },
    "kernelspec": {
      "name": "python3",
      "display_name": "Python 3"
    },
    "language_info": {
      "name": "python"
    }
  },
  "cells": [
    {
      "cell_type": "markdown",
      "metadata": {
        "id": "view-in-github",
        "colab_type": "text"
      },
      "source": [
        "<a href=\"https://colab.research.google.com/github/Nunesdejesus/Cursoemvideo-html5/blob/main/vetor_ou_array_de_uma_dimens%C3%A3o.ipynb\" target=\"_parent\"><img src=\"https://colab.research.google.com/assets/colab-badge.svg\" alt=\"Open In Colab\"/></a>"
      ]
    },
    {
      "cell_type": "code",
      "execution_count": null,
      "metadata": {
        "colab": {
          "base_uri": "https://localhost:8080/"
        },
        "id": "hsW_8b6w8-QI",
        "outputId": "1b9eb343-6a4c-4cb3-fbeb-9e51ed03975a"
      },
      "outputs": [
        {
          "output_type": "stream",
          "name": "stdout",
          "text": [
            "8\n",
            "int64\n",
            "3\n"
          ]
        }
      ],
      "source": [
        "import numpy as np\n",
        "\n",
        "números = np.array([2, 6, 7, 9, 0, 1, 2, 5, 6, 8])\n",
        "\n",
        "print(números[-1])\n",
        "print(números.dtype)\n",
        "\n",
        "números[0] = 3\n",
        "print(números[0])"
      ]
    },
    {
      "cell_type": "markdown",
      "source": [
        "**Array bidimensional**"
      ],
      "metadata": {
        "id": "rtX_BBPFA1Am"
      }
    },
    {
      "cell_type": "code",
      "source": [
        "# array bidimensional com numpy\n",
        "\n",
        "M = np.array([[1, 3, 5],[2, 4, 6],[3, 5, 7]])\n",
        "print(M)\n"
      ],
      "metadata": {
        "colab": {
          "base_uri": "https://localhost:8080/"
        },
        "id": "GmtsgB6VBAxN",
        "outputId": "3785fed5-d577-4f2e-9684-fcc0d2750511"
      },
      "execution_count": null,
      "outputs": [
        {
          "output_type": "stream",
          "name": "stdout",
          "text": [
            "[[1 3 5]\n",
            " [2 4 6]\n",
            " [3 5 7]]\n"
          ]
        }
      ]
    },
    {
      "cell_type": "code",
      "source": [
        "print(M[0, 1])"
      ],
      "metadata": {
        "colab": {
          "base_uri": "https://localhost:8080/"
        },
        "id": "g5Nf1QlvCy72",
        "outputId": "f656558a-7be5-44b2-8db4-3b6eda6d0197"
      },
      "execution_count": null,
      "outputs": [
        {
          "output_type": "stream",
          "name": "stdout",
          "text": [
            "3\n"
          ]
        }
      ]
    },
    {
      "cell_type": "code",
      "source": [
        "M[0, 1] = 7\n",
        "print(M[0, 1])"
      ],
      "metadata": {
        "colab": {
          "base_uri": "https://localhost:8080/"
        },
        "id": "cedk_pPiDLrg",
        "outputId": "d2c2ee71-9ddf-434b-c16e-d393a1264763"
      },
      "execution_count": null,
      "outputs": [
        {
          "output_type": "stream",
          "name": "stdout",
          "text": [
            "7\n"
          ]
        }
      ]
    },
    {
      "cell_type": "code",
      "source": [
        "print(M)"
      ],
      "metadata": {
        "colab": {
          "base_uri": "https://localhost:8080/"
        },
        "id": "KgOF7qo-D3vx",
        "outputId": "735caaac-293a-41e0-937a-b6fe253933ee"
      },
      "execution_count": null,
      "outputs": [
        {
          "output_type": "stream",
          "name": "stdout",
          "text": [
            "[[1 7 5]\n",
            " [2 4 6]\n",
            " [3 5 7]]\n"
          ]
        }
      ]
    },
    {
      "cell_type": "code",
      "source": [
        "# visualizar uma coluna inteira\n",
        "\n",
        "print('primera coluna:', M[:, 0])\n",
        "print('segunda coluna:', M[:, 1])"
      ],
      "metadata": {
        "colab": {
          "base_uri": "https://localhost:8080/"
        },
        "id": "M8yq3m50ELJp",
        "outputId": "f97058d8-b927-49b4-86fd-f542a1031a90"
      },
      "execution_count": null,
      "outputs": [
        {
          "output_type": "stream",
          "name": "stdout",
          "text": [
            "primera coluna: [1 2 3]\n",
            "segunda coluna: [7 4 5]\n"
          ]
        }
      ]
    },
    {
      "cell_type": "code",
      "source": [
        "# visualizar linha inteira\n",
        "print('segunda lina', M[1,:])"
      ],
      "metadata": {
        "colab": {
          "base_uri": "https://localhost:8080/"
        },
        "id": "0w6MW6b4GDK_",
        "outputId": "cadfceda-b7f2-4819-d149-61faefc47d31"
      },
      "execution_count": null,
      "outputs": [
        {
          "output_type": "stream",
          "name": "stdout",
          "text": [
            "segunda lina [2 4 6]\n"
          ]
        }
      ]
    },
    {
      "cell_type": "code",
      "source": [
        "# número de dimensão de um array\n",
        "print(números.ndim)\n",
        "print(M.ndim)"
      ],
      "metadata": {
        "colab": {
          "base_uri": "https://localhost:8080/"
        },
        "id": "gJ0iOzCkGxfo",
        "outputId": "8d712ff4-abbb-4513-d76f-4deac79b1324"
      },
      "execution_count": null,
      "outputs": [
        {
          "output_type": "stream",
          "name": "stdout",
          "text": [
            "1\n",
            "2\n"
          ]
        }
      ]
    },
    {
      "cell_type": "code",
      "source": [
        "# tanho de um array\n",
        "print(números.shape)\n",
        "print(M.shape)"
      ],
      "metadata": {
        "colab": {
          "base_uri": "https://localhost:8080/"
        },
        "id": "7HRI1-5aJINH",
        "outputId": "594d3f0d-426c-437f-e45f-44d862bb4062"
      },
      "execution_count": null,
      "outputs": [
        {
          "output_type": "stream",
          "name": "stdout",
          "text": [
            "(10,)\n",
            "(3, 3)\n"
          ]
        }
      ]
    },
    {
      "cell_type": "code",
      "source": [
        "#Número de elementos de um array\n",
        "print(números.size)\n",
        "print(M.size)"
      ],
      "metadata": {
        "colab": {
          "base_uri": "https://localhost:8080/"
        },
        "id": "Qz51x4F5NL_V",
        "outputId": "6809dc6f-f0c7-4cf2-bba6-c34e66d59580"
      },
      "execution_count": null,
      "outputs": [
        {
          "output_type": "stream",
          "name": "stdout",
          "text": [
            "10\n",
            "9\n"
          ]
        }
      ]
    }
  ]
}