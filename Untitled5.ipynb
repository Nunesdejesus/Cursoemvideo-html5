{
  "nbformat": 4,
  "nbformat_minor": 0,
  "metadata": {
    "colab": {
      "name": "Untitled5.ipynb",
      "provenance": [],
      "authorship_tag": "ABX9TyMgFhurITSm9CsORQ/2zfkT",
      "include_colab_link": true
    },
    "kernelspec": {
      "name": "python3",
      "display_name": "Python 3"
    },
    "language_info": {
      "name": "python"
    }
  },
  "cells": [
    {
      "cell_type": "markdown",
      "metadata": {
        "id": "view-in-github",
        "colab_type": "text"
      },
      "source": [
        "<a href=\"https://colab.research.google.com/github/Nunesdejesus/Cursoemvideo-html5/blob/main/Untitled5.ipynb\" target=\"_parent\"><img src=\"https://colab.research.google.com/assets/colab-badge.svg\" alt=\"Open In Colab\"/></a>"
      ]
    },
    {
      "cell_type": "code",
      "metadata": {
        "colab": {
          "base_uri": "https://localhost:8080/"
        },
        "id": "iWE5tQKlYQ7_",
        "outputId": "29a83d59-79ea-46c3-fe50-8d5768a87e5c"
      },
      "source": [
        "credito = {'123': 750, '456':812, '789': 980}\n",
        "\n",
        "for chave_valor in credito:\n",
        "  print(f'para o documento {credito}, o valor de escore de credito é {chave_valor}.')"
      ],
      "execution_count": null,
      "outputs": [
        {
          "output_type": "stream",
          "name": "stdout",
          "text": [
            "para o documento {'123': 750, '456': 812, '789': 980}, o valor de escore de credito é 123.\n",
            "para o documento {'123': 750, '456': 812, '789': 980}, o valor de escore de credito é 456.\n",
            "para o documento {'123': 750, '456': 812, '789': 980}, o valor de escore de credito é 789.\n"
          ]
        }
      ]
    },
    {
      "cell_type": "code",
      "metadata": {
        "colab": {
          "base_uri": "https://localhost:8080/"
        },
        "id": "ZqmBW9jIaV09",
        "outputId": "c3481892-723d-461e-fb49-7d95f9dff9a4"
      },
      "source": [
        "def pi():\n",
        "  return 3.14159265359\n",
        "\n",
        "pi = pi()\n",
        "print(pi)"
      ],
      "execution_count": null,
      "outputs": [
        {
          "output_type": "stream",
          "name": "stdout",
          "text": [
            "3.14159265359\n"
          ]
        }
      ]
    },
    {
      "cell_type": "code",
      "metadata": {
        "id": "UbjlbeiAbqE8"
      },
      "source": [
        "emails = ['andre.perez@gmail.com', 'andre.perez@live.com','andre.perez@yahoo.com']\n",
        "provedor_da_google = (lambda emails: 'gmail' in email)\n",
        "\n",
        "\n",
        "\n"
      ],
      "execution_count": null,
      "outputs": []
    },
    {
      "cell_type": "code",
      "metadata": {
        "colab": {
          "base_uri": "https://localhost:8080/"
        },
        "id": "LB-ytekui-bc",
        "outputId": "8bf9aee2-26f8-4dcb-9fd5-a0ccc927e388"
      },
      "source": [
        "emails_google = []\n",
        "\n",
        "for email in emails:\n",
        "  if provedor_da_google(email) == True:\n",
        "    emails_google.append(email)\n",
        "\n",
        "print(emails_google)"
      ],
      "execution_count": null,
      "outputs": [
        {
          "output_type": "stream",
          "name": "stdout",
          "text": [
            "['andre.perez@gmail.com']\n"
          ]
        }
      ]
    },
    {
      "cell_type": "code",
      "metadata": {
        "colab": {
          "base_uri": "https://localhost:8080/"
        },
        "id": "KKdD90yelhcG",
        "outputId": "48de84d1-5479-4d8f-aaec-20ec4442511b"
      },
      "source": [
        "emails_google = filter(lambda email: 'gmail' in email,emails)\n",
        "...\n",
        "print(list(emails_google))"
      ],
      "execution_count": null,
      "outputs": [
        {
          "output_type": "stream",
          "name": "stdout",
          "text": [
            "['andre.perez@gmail.com']\n"
          ]
        }
      ]
    },
    {
      "cell_type": "code",
      "metadata": {
        "id": "dPLby8_NmPxK"
      },
      "source": [
        "class Pessoa(object):\n",
        "  def __init__(self, nome: str, idade: int, documento: str):\n",
        "    self.nome = nome\n",
        "    self.idade = idade\n",
        "    self.documento = documento\n",
        "\n",
        "andre = Pessoa(nome=\"andre\", idade=30, documento=\"123\")\n"
      ],
      "execution_count": null,
      "outputs": []
    },
    {
      "cell_type": "code",
      "metadata": {
        "colab": {
          "base_uri": "https://localhost:8080/"
        },
        "id": "YLoySutPvVde",
        "outputId": "0c92eb72-f043-4f5c-b0ae-6157d247ab19"
      },
      "source": [
        "print(andre.nome)"
      ],
      "execution_count": null,
      "outputs": [
        {
          "output_type": "stream",
          "name": "stdout",
          "text": [
            "andre\n"
          ]
        }
      ]
    },
    {
      "cell_type": "code",
      "metadata": {
        "colab": {
          "base_uri": "https://localhost:8080/"
        },
        "id": "uIt3MjFdvgMx",
        "outputId": "92052bca-ac0f-458b-f603-030a61b3fb82"
      },
      "source": [
        "%%writefile credito.csv\n",
        "id_vendedor,valor_emprestimos,quantidade_emprestimos,data\n",
        "104271,448.0,1,20161208\n",
        "21476,826.7,3,20161208\n",
        "87440,313.6,320161208\n",
        "15980,808.0,6,20161208\n",
        "215906,2212.0,5,20161208\n",
        "33696,2771.3,2,20161208\n",
        "33893,2240.0,3,20161208\n",
        "214946,\"4151.0\", 18,20161208\n",
        "123974,2021.95,2,20161208\n",
        "225870,4039.0,2,20161208\n"
      ],
      "execution_count": null,
      "outputs": [
        {
          "output_type": "stream",
          "name": "stdout",
          "text": [
            "Writing credito.csv\n"
          ]
        }
      ]
    },
    {
      "cell_type": "code",
      "metadata": {
        "id": "FMyHTPt_g6hS"
      },
      "source": [
        "def valor_total_emprestimo(valor: float, quantidade: int) ->float:\n",
        "  return valor * quamtidade\n",
        "\n",
        "emprestimos = []\n",
        "\n",
        "with open(file='./credito.csv',mode='r',encoding='utf8') as fp:\n",
        "  fp.readline()\n",
        "  linha = fp.readline()\n",
        "  while linha:\n",
        "    try:\n",
        "      linha_emprestimo = {}\n",
        "      linha_elementos = linha.replace('\"','').strip().split(sep=',')\n",
        "      linha_emprestimo['id_vendedor'] = linha_elementos[0]\n",
        "      linha_emprestimo['valor_emprestimos'] = float(linha_elementos[1])\n",
        "    except ValueError as exc:\n",
        "      print(f'não foi possivel continuar devido erro: {exc}')\n",
        "      break\n",
        "    else:\n",
        "       linha_emprestimo['quantidade_emprestimos'] = int(linha_elementos[2])\n",
        "       linha_emprestimo['data'] = linha_elementos[3]\n",
        "       emprestimos.append(linha_emprestimo)\n",
        "       linha = fp.readline()\n",
        "\n",
        "emprestimos_total = []\n",
        "for emprestimo in emprestimos:\n",
        " valor_total = valor_total_emprestimo(valor=emprestimo['valor_emprestimos'], quantidade=emprestimo['quantidade_emprestimos'])\n",
        " emprestimos_total.append({emprestimo['id_vendedor']:valor_total})\n",
        "\n",
        "\n",
        "for emprestimo_total in emprestimos_total:\n",
        "  print(emprestimo_total)"
      ],
      "execution_count": null,
      "outputs": []
    }
  ]
}